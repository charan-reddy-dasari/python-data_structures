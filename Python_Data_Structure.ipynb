{
  "nbformat": 4,
  "nbformat_minor": 0,
  "metadata": {
    "colab": {
      "provenance": []
    },
    "kernelspec": {
      "name": "python3",
      "display_name": "Python 3"
    },
    "language_info": {
      "name": "python"
    }
  },
  "cells": [
    {
      "cell_type": "markdown",
      "source": [
        "# Python-Data structures\n",
        "\n",
        "1. What are data structures, and why are they important?\n",
        "  - Data Structures: Containers that are used to store data in organised manner for efficient access and modification.\n",
        "  - Importance:\n",
        "      - easy access of variables which are stored in RAM\n",
        "      - data is well organised, so accessing and managing become easier\n",
        "      - predefined methods on each data structures leads to easy manipulations of data\n",
        "      - it is easy to implement well structured program\n",
        "2.  Explain the difference between mutable and immutable data types with examples?\n",
        "  - Mutability : ability to change something is called mutablity.\n",
        "  - Mutabale : if a data structure is allowed to change the content inside it then it is mutable data structure.\n",
        "      - example : List, Set, Dictionary.\n",
        "  - Immutable : if a data structure is not allowed to change the content inside it then it is called immutable data structure.\n",
        "      - example : Frozen set, Tuple, String.\n",
        "\n",
        "3. What are the main differences between lists and tuples in Python?\n",
        "    - Differences:\n",
        "    - List :\n",
        "        - enclosed with in square braces, l1 = [1,2,3,4]\n",
        "        - List is mutable, we can modify once after initialized.\n",
        "        - some methods : append(), insert(), pop(), remove(), len()\n",
        "    - Tuple :\n",
        "        - enclosed with in paranthesis, t1 = (1,2,3,4)\n",
        "        - tuple is immutable, we can't modify once after initialized.\n",
        "        - some methods : count(), len()\n",
        "4. Describe how dictionaries store data?\n",
        "    - Dictionary: like other data structures, dictionary stores values in RAM, but the difference is in dictionary elements can accessed using thier keys, but in list and tuple we can access elements with their index.\n",
        "    - firstly, key is hashed using some hash function\n",
        "    - then corresponding value is stored at result of hash function\n",
        "    - we can access value with keys.\n",
        "    - dictionary is not subscriptable.\n",
        "5. Why might you use a set instead of a list in Python?\n",
        "    - if we want to avoid duplicates and data need to be sorted, then we prefer set over list.\n",
        "    - set also provide a provision to perform set operation like union, set difference, intersection, symmetric difference.\n",
        "6. What is a string in Python, and how is it different from a list?\n",
        "    - String: A string is a sequence of charecter enclosed within single quotes or double quotes.\n",
        "    - unlike list, string is immutable\n",
        "    - list elements are separated by commas but there is not delimeter between charecters in strings.\n",
        "    - l1 = [1,2,3,4,5] # list\n",
        "    - s1 = \"12345\" # string\n",
        "7. How do tuples ensure data integrity in Python?\n",
        "    - data Integrity : data should be consistent, complete, accurate, validate.\n",
        "    - Tuple is immutable in nature so consistency, completeness is ensured.\n",
        "8. What is a hash table, and how does it relate to dictionaries in Python?\n",
        "    - A hash table is linear data structure in which insertion, deletion, accessing can be done in constant time. in hash table elements are accessed using hash key.\n",
        "    - hash-key : A key which passed to a hash function to get an address\n",
        "    - hash function: A function which takes key as a input and return a value called hash value, body of function is completely depend on programmer, widely used hash function is '%' operation for numerical keys.\n",
        "    - hash value: A address in memory where the corressonding value of this hash-key is stored.\n",
        "    - How hash table is related to dictionary:\n",
        "        - dictionary also uses same principle that is explained above.\n",
        "        - 'key' is hashed and value is stored at returned address of hash function.\n",
        "        - dictionary used various hash functions based on the environment.\n",
        "9. Can lists contain different data types in Python?\n",
        "    - Yes, list can store any type of data, separated by commas\n",
        "    - example: l1 = [1, 2.5, \"charan\", True, None, 3+10j]\n",
        "10. Explain why strings are immutable in Python?\n",
        "    - strings are immutable in python because we can't individually change a character in string.\n",
        "    - s1 = \"charan\"\n",
        "    - s1[2] = 'k' \\\\ returns error(indicates strings are immutable)\n",
        "11. What advantages do dictionaries offer over lists for certain tasks?\n",
        "    - insertion and deletion:\n",
        "        - insertion and deletion can be done in O(1) time complexity for dictionary\n",
        "        - insertion and deletion takes O(n) time complexity in list\n",
        "    - data can be access with meaningfull terminology:\n",
        "        - student['name'] in dictionary is meaningfull compared to student[0] in list.\n",
        "12. Describe a scenario where using a tuple would be preferable over a list?\n",
        "    - tuple is immutable in nature once initialized cannot be modified.\n",
        "    - scenario where tuple is better than list:\n",
        "        - consider a database table contains 4 columns name, id, address, age\n",
        "        - python program and database table are connected using inbuilt libraries.\n",
        "        - task is to insert few rows into the table from python program\n",
        "        - initialize a tuple contains (name, id, address,age) and insert into table using inbuilt methods\n",
        "        - here tuple is more preferrable than list, because table columns and their index is fixed and their datatype is also fixed.\n",
        "        - so in this scenario tuple is more prefferable than list\n",
        "13. How do sets handle duplicate values in Python?\n",
        "    - set uses hash table concept to get the index of elements and also handles the duplicates.\n",
        "    - every element in the set passed through a hash function and stored at a specific index\n",
        "    - if same element appears again, hash function will return same index and element stored at same index, so in this way set handles duplicate values.\n",
        "14. How does the “in” keyword work differently for lists and dictionaries?\n",
        "    - \"in\" keyword is membership operator to check whether element is present in the list or not, if present returns True, else False.\n",
        "    - \"in\" keyword in dictionary uses to check whether specific key is present in the list or not, if present return Ture, else False.\n",
        "15. Can you modify the elements of a tuple? Explain why or why not?\n",
        "    - no we can't modify the elements of a tuple because tuple are immutable data structures, once initialized cannot be changed.\n",
        "16. What is a nested dictionary, and give an example of its use case?\n",
        "    - Nexted dictionary: Dictionary inside a dictionary, this is used more for a hierachical informarion.\n",
        "    - example: student = { \"name\" : \"charan\", \"age\" : \"25\" , \"marks\" : {\"m1\" : 95, \"m2\" : 90, \"m3\" : 85}}  \n",
        "17. Describe the time complexity of accessing elements in a dictionary?\n",
        "    - in dictonaries elements can access using keys\n",
        "    - example : student['name']\n",
        "    - so time complexity of accessing any element takes constant time i.e O(1).\n",
        "18. In what situations are lists preferred over dictionaries?\n",
        "    - when order of the elements is important, then list is more prefferable than dictionary.\n",
        "    - example : five students s1, s2, s3, s4, s5 attempted exam, so after results student ranks are in order s2, s3, s1, s5, s4. so in this situation using list is more prefferable\n",
        "    - student_results = [s2, s3, s1, s5, s4]  # more prefferable\n",
        "    - student_results = {\"s1\" : 3, \"s2\" : 1, \"s3\" : 2, \"s4\" : 5, \"s5\" : 4}\n",
        "19. Why are dictionaries considered unordered, and how does that affect data retrieval?\n",
        "    - initially dictionaries are unordered in python, but after 3.7 version dictionaries are preserving order of the elements.\n",
        "    - but dictionaries are not subscriptable, we have to retrive elements using keys only.\n",
        "    - d1 = {\"a\":1, \"b\":2, \"c\":3}\n",
        "    - print(d1[\"b\"]) return 2\n",
        "20.  Explain the difference between a list and a dictionary in terms of data retrieval?\n",
        "    - lists are index based data structures, we can retrieve elements using thier index\n",
        "    - example: l1 = [1,2,3,4,5]\n",
        "    - print(l1[0], l1[3], l1[4] ) return 1 4 5\n",
        "    - Dictionaries are not subscriptable, dictionary stores values in the form of key-value pairs.\n",
        "    -  we can access values using keys but we can't access keys using values because keys are unique but not values\n",
        "    - data retrieval can be done using keys\n",
        "    - example: d1 = {\"a\" : 1, \"b\" : 2 , \"c\" : 3, \"d\" : 4}\n",
        "    - print(d1['a'], d1['b'] , d1['d']) returns 1 2 4\n",
        "    \n",
        "\n"
      ],
      "metadata": {
        "id": "aZGUEPX5Cf55"
      }
    },
    {
      "cell_type": "code",
      "source": [
        "# Write a code to create a string with your name and print it?\n",
        "my_name = \"Dasari Charan Srinivas kumar reddy\"\n",
        "print(f\"my name is {my_name}\")"
      ],
      "metadata": {
        "colab": {
          "base_uri": "https://localhost:8080/"
        },
        "id": "5B_nAh8KVxI4",
        "outputId": "30f8e306-818a-41fd-f6dd-a732c93f8b8e"
      },
      "execution_count": null,
      "outputs": [
        {
          "output_type": "stream",
          "name": "stdout",
          "text": [
            "my name is Dasari Charan Srinivas kumar reddy\n"
          ]
        }
      ]
    },
    {
      "cell_type": "code",
      "source": [
        "# Write a code to find the length of the string \"Hello World\"?\n",
        "len(\"Hello World\")"
      ],
      "metadata": {
        "colab": {
          "base_uri": "https://localhost:8080/"
        },
        "id": "B1PpEce_WEOt",
        "outputId": "ccbdfc5f-8193-4a97-da57-6425cb3a48f0"
      },
      "execution_count": null,
      "outputs": [
        {
          "output_type": "execute_result",
          "data": {
            "text/plain": [
              "11"
            ]
          },
          "metadata": {},
          "execution_count": 5
        }
      ]
    },
    {
      "cell_type": "code",
      "source": [
        "# Write a code to slice the first 3 characters from the string \"Python Programming\"?\n",
        "\n",
        "s1 = \"Python Programming\"\n",
        "print(s1[:3:1])"
      ],
      "metadata": {
        "colab": {
          "base_uri": "https://localhost:8080/"
        },
        "id": "nqg9VXm9WZbX",
        "outputId": "54e11fe2-9353-4542-fefe-a050b956f6aa"
      },
      "execution_count": null,
      "outputs": [
        {
          "output_type": "stream",
          "name": "stdout",
          "text": [
            "Pyt\n"
          ]
        }
      ]
    },
    {
      "cell_type": "code",
      "source": [
        "# Write a code to convert the string \"hello\" to uppercase?\n",
        "\n",
        "s2 = 'hello'\n",
        "s2.upper()"
      ],
      "metadata": {
        "colab": {
          "base_uri": "https://localhost:8080/",
          "height": 35
        },
        "id": "g7wbRmy_Wjyi",
        "outputId": "0c30c417-030d-417f-aa8e-48e7eadb3261"
      },
      "execution_count": null,
      "outputs": [
        {
          "output_type": "execute_result",
          "data": {
            "text/plain": [
              "'HELLO'"
            ],
            "application/vnd.google.colaboratory.intrinsic+json": {
              "type": "string"
            }
          },
          "metadata": {},
          "execution_count": 7
        }
      ]
    },
    {
      "cell_type": "code",
      "source": [
        "# Write a code to replace the word \"apple\" with \"orange\" in the string \"I like apple\"?\n",
        "s3 = \"I like apple\"\n",
        "s3.replace('apple', 'orange')"
      ],
      "metadata": {
        "colab": {
          "base_uri": "https://localhost:8080/",
          "height": 35
        },
        "id": "EjMwUZOiWuWg",
        "outputId": "7bc8f894-40ae-4595-b6a0-f25930e506b6"
      },
      "execution_count": null,
      "outputs": [
        {
          "output_type": "execute_result",
          "data": {
            "text/plain": [
              "'I like orange'"
            ],
            "application/vnd.google.colaboratory.intrinsic+json": {
              "type": "string"
            }
          },
          "metadata": {},
          "execution_count": 8
        }
      ]
    },
    {
      "cell_type": "code",
      "source": [
        "# Write a code to create a list with numbers 1 to 5 and print it?\n",
        "l1 = [i for i in range(1,6)]\n",
        "for i in l1:\n",
        "  print(i, end = \" \")"
      ],
      "metadata": {
        "colab": {
          "base_uri": "https://localhost:8080/"
        },
        "id": "H4lRw2r4W-J3",
        "outputId": "424334a4-8aee-4fdd-e86f-c2475f51d429"
      },
      "execution_count": null,
      "outputs": [
        {
          "output_type": "stream",
          "name": "stdout",
          "text": [
            "1 2 3 4 5 "
          ]
        }
      ]
    },
    {
      "cell_type": "code",
      "source": [
        " # Write a code to append the number 10 to the list [1, 2, 3, 4]?\n",
        " l2 = [1,2,3,4]\n",
        " l2.append(5)\n",
        " l2"
      ],
      "metadata": {
        "colab": {
          "base_uri": "https://localhost:8080/"
        },
        "id": "uGqn10ATXMXr",
        "outputId": "4310ad80-b7a7-4e56-e765-d7e3ccaf675b"
      },
      "execution_count": null,
      "outputs": [
        {
          "output_type": "execute_result",
          "data": {
            "text/plain": [
              "[1, 2, 3, 4, 5]"
            ]
          },
          "metadata": {},
          "execution_count": 23
        }
      ]
    },
    {
      "cell_type": "code",
      "source": [
        "# Write a code to remove the number 3 from the list [1, 2, 3, 4, 5]?\n",
        "\n",
        "l3 = [1,2,3,4,5]\n",
        "l3.remove(3)\n",
        "l3\n"
      ],
      "metadata": {
        "colab": {
          "base_uri": "https://localhost:8080/"
        },
        "id": "iC_igVYfXVRy",
        "outputId": "df976b6c-9304-4d4d-f08c-ae451419758e"
      },
      "execution_count": null,
      "outputs": [
        {
          "output_type": "execute_result",
          "data": {
            "text/plain": [
              "[1, 2, 4, 5]"
            ]
          },
          "metadata": {},
          "execution_count": 11
        }
      ]
    },
    {
      "cell_type": "code",
      "source": [
        "# Write a code to access the second element in the list ['a', 'b', 'c', 'd']?\n",
        "l4 = ['a', 'b', 'c', 'd']\n",
        "print(l4[1]) # list index starts from '0', second element index is '1'\n"
      ],
      "metadata": {
        "colab": {
          "base_uri": "https://localhost:8080/"
        },
        "id": "DQCgB8UsXgen",
        "outputId": "71f26102-79cd-4f4c-8b3e-17cd0b535319"
      },
      "execution_count": null,
      "outputs": [
        {
          "output_type": "stream",
          "name": "stdout",
          "text": [
            "b\n"
          ]
        }
      ]
    },
    {
      "cell_type": "code",
      "source": [
        "# Write a code to reverse the list [10, 20, 30, 40, 50]?\n",
        "l5 = [10, 20, 30, 40, 50]\n",
        "for i in range(len(l5)-1,-1,-1):\n",
        "  print(l5[i], end=\" \") # way-1\n",
        "print(\"\\n\")\n",
        "print(l5[-1::-1]) # way-2"
      ],
      "metadata": {
        "colab": {
          "base_uri": "https://localhost:8080/"
        },
        "id": "5G29AtbUXyta",
        "outputId": "fb6249b4-123a-4c96-9b47-46ca1527707c"
      },
      "execution_count": null,
      "outputs": [
        {
          "output_type": "stream",
          "name": "stdout",
          "text": [
            "50 40 30 20 10 \n",
            "\n",
            "[50, 40, 30, 20, 10]\n"
          ]
        }
      ]
    },
    {
      "cell_type": "code",
      "source": [
        "# Write a code to create a tuple with the elements 10, 20, 30 and print it?\n",
        "t1 = (10,20,30)\n",
        "print(t1)"
      ],
      "metadata": {
        "colab": {
          "base_uri": "https://localhost:8080/"
        },
        "id": "7WrbU4uvYChM",
        "outputId": "f6232709-f7ac-49f2-ff94-89eb2c7ef831"
      },
      "execution_count": null,
      "outputs": [
        {
          "output_type": "stream",
          "name": "stdout",
          "text": [
            "(10, 20, 30)\n"
          ]
        }
      ]
    },
    {
      "cell_type": "code",
      "source": [
        "# Write a code to access the first element of the tuple ('apple', 'banana', 'cherry')?\n",
        "t2 = ('apple', 'banana', 'cherry')\n",
        "t2[0]"
      ],
      "metadata": {
        "colab": {
          "base_uri": "https://localhost:8080/",
          "height": 35
        },
        "id": "_xcmUETuYVT5",
        "outputId": "cc4ae599-6332-4ed9-fc9c-157cbeb7f4f4"
      },
      "execution_count": null,
      "outputs": [
        {
          "output_type": "execute_result",
          "data": {
            "text/plain": [
              "'apple'"
            ],
            "application/vnd.google.colaboratory.intrinsic+json": {
              "type": "string"
            }
          },
          "metadata": {},
          "execution_count": 16
        }
      ]
    },
    {
      "cell_type": "code",
      "source": [
        "# Write a code to count how many times the number 2 appears in the tuple (1, 2, 3, 2, 4, 2)?\n",
        "t3 = (1, 2, 3, 2, 4, 2)\n",
        "t3.count(2)"
      ],
      "metadata": {
        "colab": {
          "base_uri": "https://localhost:8080/"
        },
        "id": "5xqfP8R3Yhda",
        "outputId": "1c913573-d073-4e7f-cfa4-96ad6ad9a72e"
      },
      "execution_count": null,
      "outputs": [
        {
          "output_type": "execute_result",
          "data": {
            "text/plain": [
              "3"
            ]
          },
          "metadata": {},
          "execution_count": 17
        }
      ]
    },
    {
      "cell_type": "code",
      "source": [
        "#  Write a code to find the index of the element \"cat\" in the tuple ('dog', 'cat', 'rabbit')?\n",
        "t4 = ('dog', 'cat', 'rabbit')\n",
        "t4.index('cat')"
      ],
      "metadata": {
        "colab": {
          "base_uri": "https://localhost:8080/"
        },
        "id": "Ig5GvAfHYsc2",
        "outputId": "9d0af6f9-3c1d-4bae-81e5-16c878af77b6"
      },
      "execution_count": null,
      "outputs": [
        {
          "output_type": "execute_result",
          "data": {
            "text/plain": [
              "1"
            ]
          },
          "metadata": {},
          "execution_count": 18
        }
      ]
    },
    {
      "cell_type": "code",
      "source": [
        "#  Write a code to check if the element \"banana\" is in the tuple ('apple', 'orange', 'banana')?\n",
        "t5 = ('apple', 'orange', 'banana')\n",
        "if 'banana' in t5:\n",
        "  print(\"banana is there in given tuple\")\n",
        "else:\n",
        "  print(\"banana is not there in given tuple\")"
      ],
      "metadata": {
        "colab": {
          "base_uri": "https://localhost:8080/"
        },
        "id": "yXpsFevFY8UV",
        "outputId": "2cd4d7d2-b364-42b6-f4ce-861ed64336f0"
      },
      "execution_count": null,
      "outputs": [
        {
          "output_type": "stream",
          "name": "stdout",
          "text": [
            "banana is there in given tuple\n"
          ]
        }
      ]
    },
    {
      "cell_type": "code",
      "source": [
        "#  Write a code to create a set with the elements 1, 2, 3, 4, 5 and print it?\n",
        "set1 = {1,2,3,4,5}\n",
        "print(set1)"
      ],
      "metadata": {
        "colab": {
          "base_uri": "https://localhost:8080/"
        },
        "id": "qN47vTxaZgWZ",
        "outputId": "41757f3d-7bcf-4169-dff7-882ca9577be0"
      },
      "execution_count": null,
      "outputs": [
        {
          "output_type": "stream",
          "name": "stdout",
          "text": [
            "{1, 2, 3, 4, 5}\n"
          ]
        }
      ]
    },
    {
      "cell_type": "code",
      "source": [
        "# Write a code to add the element 6 to the set {1, 2, 3, 4}?\n",
        "set2 = {1,2,3,4}\n",
        "set2.add(5)\n",
        "set2"
      ],
      "metadata": {
        "colab": {
          "base_uri": "https://localhost:8080/"
        },
        "id": "ZkJaj9t9Znxs",
        "outputId": "f4ac16df-59cd-4e53-d5c4-6029cad9c2f1"
      },
      "execution_count": null,
      "outputs": [
        {
          "output_type": "execute_result",
          "data": {
            "text/plain": [
              "{1, 2, 3, 4, 5}"
            ]
          },
          "metadata": {},
          "execution_count": 21
        }
      ]
    },
    {
      "cell_type": "code",
      "source": [
        "#  Write a code to create a tuple with the elements 10, 20, 30 and print it?\n",
        "t6 = (10,20,30)\n",
        "t6"
      ],
      "metadata": {
        "colab": {
          "base_uri": "https://localhost:8080/"
        },
        "id": "V-o32WaTZvf9",
        "outputId": "557f508a-b58e-4e54-8778-ed922a57bc13"
      },
      "execution_count": null,
      "outputs": [
        {
          "output_type": "execute_result",
          "data": {
            "text/plain": [
              "(10, 20, 30)"
            ]
          },
          "metadata": {},
          "execution_count": 22
        }
      ]
    }
  ]
}